{
 "cells": [
  {
   "cell_type": "code",
   "execution_count": 1,
   "id": "aa8b5743",
   "metadata": {},
   "outputs": [
    {
     "name": "stdout",
     "output_type": "stream",
     "text": [
      "1 89\n",
      "2 3\n",
      "3 0\n",
      "4 5\n"
     ]
    }
   ],
   "source": [
    "import collections\n",
    "\n",
    "dict = {2: 3, 1: 89, 4: 5, 3: 0}\n",
    "\n",
    "orderd = collections.OrderedDict(sorted(dict.items()))\n",
    "\n",
    "collections.OrderedDict([(1, 89), (2, 3), (3, 0), (4, 5)])\n",
    "\n",
    "for k, v in orderd.items():\n",
    "    print(k, v)"
   ]
  },
  {
   "cell_type": "code",
   "execution_count": 2,
   "id": "60fa4b32",
   "metadata": {},
   "outputs": [
    {
     "ename": "SyntaxError",
     "evalue": "invalid syntax (972620333.py, line 1)",
     "output_type": "error",
     "traceback": [
      "\u001b[1;36m  Input \u001b[1;32mIn [2]\u001b[1;36m\u001b[0m\n\u001b[1;33m    1-Adjacency Matrix In the adjacency matrix representation,\u001b[0m\n\u001b[1;37m                ^\u001b[0m\n\u001b[1;31mSyntaxError\u001b[0m\u001b[1;31m:\u001b[0m invalid syntax\n"
     ]
    }
   ],
   "source": [
    "#1-Adjacency Matrix In the adjacency matrix representation,\n",
    "#a graph is represented in the form of a two-dimensional array.\n",
    "#The size of the array is V x V, where V is the set of vertices.\n",
    "#2-Adjacency List: In the adjacency list representation, a graph is represented as an array of linked list.\n",
    "#The index of the array represents a vertex and each element in its linked list represents the  vertices that form an edge with the vertex.\n",
    "    "
   ]
  },
  {
   "cell_type": "code",
   "execution_count": 3,
   "id": "72e06a33",
   "metadata": {},
   "outputs": [],
   "source": [
    "#BFS is a traversal approach in which we first walk through all nodes on the same level before moving on to the next level,BFS(Breadth First Search) uses Queue data structure for finding the shortest path.\n",
    "#DFS is also a traversal approach in which the traverse begins at the root node and proceeds through the nodes as far as possible until we reach the node with no unvisited nearby nodes,DFS(Depth First Search) uses Stack data structure."
   ]
  },
  {
   "cell_type": "code",
   "execution_count": 4,
   "id": "188e246e",
   "metadata": {},
   "outputs": [],
   "source": [
    "#######have a problem in my jupyter in create Libaray"
   ]
  },
  {
   "cell_type": "code",
   "execution_count": 5,
   "id": "8edb42f4",
   "metadata": {},
   "outputs": [],
   "source": [
    "###################"
   ]
  },
  {
   "cell_type": "code",
   "execution_count": 6,
   "id": "828afec6",
   "metadata": {},
   "outputs": [
    {
     "name": "stdout",
     "output_type": "stream",
     "text": [
      "New added element:  {a, a, a, b}\n"
     ]
    }
   ],
   "source": [
    "#multiset\n",
    "from multiset import *\n",
    "mltst = Multiset('aab')\n",
    "\n",
    "mltst.update('a')\n",
    "print(\"New added element: \", mltst)"
   ]
  },
  {
   "cell_type": "code",
   "execution_count": 7,
   "id": "e1707f3c",
   "metadata": {},
   "outputs": [
    {
     "name": "stdout",
     "output_type": "stream",
     "text": [
      "{'c', 'b', 'a'}\n",
      "{'c', 'd', 'b', 'a'}\n"
     ]
    }
   ],
   "source": [
    "#Unordered\n",
    "myset = set([\"a\", \"b\", \"c\"])\n",
    "print(myset)\n",
    "\n",
    "myset.add(\"d\")\n",
    "print(myset)"
   ]
  },
  {
   "cell_type": "code",
   "execution_count": null,
   "id": "f5185245",
   "metadata": {},
   "outputs": [],
   "source": [
    "#name:mohamed ahmed mahmoud farag"
   ]
  }
 ],
 "metadata": {
  "kernelspec": {
   "display_name": "Python 3 (ipykernel)",
   "language": "python",
   "name": "python3"
  },
  "language_info": {
   "codemirror_mode": {
    "name": "ipython",
    "version": 3
   },
   "file_extension": ".py",
   "mimetype": "text/x-python",
   "name": "python",
   "nbconvert_exporter": "python",
   "pygments_lexer": "ipython3",
   "version": "3.10.3"
  }
 },
 "nbformat": 4,
 "nbformat_minor": 5
}
